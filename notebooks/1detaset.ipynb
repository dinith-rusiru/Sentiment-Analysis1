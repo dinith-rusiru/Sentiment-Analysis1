{
 "cells": [
  {
   "cell_type": "code",
   "execution_count": 1,
   "id": "dce318fe",
   "metadata": {},
   "outputs": [],
   "source": [
    "import numpy as np\n"
   ]
  },
  {
   "cell_type": "code",
   "execution_count": 7,
   "id": "a63ff477-6b88-4608-8b9a-05c99cf9a81c",
   "metadata": {},
   "outputs": [],
   "source": [
    "import json\n",
    "with open('../artifact/kaggle (1).json','r') as file:\n",
    "    data = json.load(file)"
   ]
  },
  {
   "cell_type": "code",
   "execution_count": 8,
   "id": "d1d85c35-62ec-4550-8ea4-ac7070bf5519",
   "metadata": {},
   "outputs": [
    {
     "data": {
      "text/plain": [
       "{'username': 'dinithrusiru', 'key': 'cda1b6100f6fd22831b793c9020ef0c8'}"
      ]
     },
     "execution_count": 8,
     "metadata": {},
     "output_type": "execute_result"
    }
   ],
   "source": [
    "data\n"
   ]
  },
  {
   "cell_type": "code",
   "execution_count": 9,
   "id": "827c84fa-82d6-41c3-beef-46324aee33b1",
   "metadata": {},
   "outputs": [
    {
     "name": "stdout",
     "output_type": "stream",
     "text": [
      "Collecting kaggle\n",
      "  Using cached kaggle-1.7.4.5-py3-none-any.whl.metadata (16 kB)\n",
      "Requirement already satisfied: bleach in e:\\y4s1\\new folder (2)\\sentiment-analysis1\\env\\lib\\site-packages (from kaggle) (6.2.0)\n",
      "Requirement already satisfied: certifi>=14.05.14 in e:\\y4s1\\new folder (2)\\sentiment-analysis1\\env\\lib\\site-packages (from kaggle) (2025.4.26)\n",
      "Requirement already satisfied: charset-normalizer in e:\\y4s1\\new folder (2)\\sentiment-analysis1\\env\\lib\\site-packages (from kaggle) (3.4.2)\n",
      "Requirement already satisfied: idna in e:\\y4s1\\new folder (2)\\sentiment-analysis1\\env\\lib\\site-packages (from kaggle) (3.10)\n",
      "Collecting protobuf (from kaggle)\n",
      "  Downloading protobuf-6.31.1-cp310-abi3-win_amd64.whl.metadata (593 bytes)\n",
      "Requirement already satisfied: python-dateutil>=2.5.3 in e:\\y4s1\\new folder (2)\\sentiment-analysis1\\env\\lib\\site-packages (from kaggle) (2.9.0.post0)\n",
      "Collecting python-slugify (from kaggle)\n",
      "  Using cached python_slugify-8.0.4-py2.py3-none-any.whl.metadata (8.5 kB)\n",
      "Requirement already satisfied: requests in e:\\y4s1\\new folder (2)\\sentiment-analysis1\\env\\lib\\site-packages (from kaggle) (2.32.4)\n",
      "Requirement already satisfied: setuptools>=21.0.0 in e:\\y4s1\\new folder (2)\\sentiment-analysis1\\env\\lib\\site-packages (from kaggle) (80.9.0)\n",
      "Requirement already satisfied: six>=1.10 in e:\\y4s1\\new folder (2)\\sentiment-analysis1\\env\\lib\\site-packages (from kaggle) (1.17.0)\n",
      "Collecting text-unidecode (from kaggle)\n",
      "  Using cached text_unidecode-1.3-py2.py3-none-any.whl.metadata (2.4 kB)\n",
      "Collecting tqdm (from kaggle)\n",
      "  Using cached tqdm-4.67.1-py3-none-any.whl.metadata (57 kB)\n",
      "Requirement already satisfied: urllib3>=1.15.1 in e:\\y4s1\\new folder (2)\\sentiment-analysis1\\env\\lib\\site-packages (from kaggle) (2.4.0)\n",
      "Requirement already satisfied: webencodings in e:\\y4s1\\new folder (2)\\sentiment-analysis1\\env\\lib\\site-packages (from kaggle) (0.5.1)\n",
      "Requirement already satisfied: colorama in e:\\y4s1\\new folder (2)\\sentiment-analysis1\\env\\lib\\site-packages (from tqdm->kaggle) (0.4.6)\n",
      "Using cached kaggle-1.7.4.5-py3-none-any.whl (181 kB)\n",
      "Downloading protobuf-6.31.1-cp310-abi3-win_amd64.whl (435 kB)\n",
      "   ---------------------------------------- 0.0/435.3 kB ? eta -:--:--\n",
      "   ---------------------------------------- 0.0/435.3 kB ? eta -:--:--\n",
      "   ---------------------------------------- 0.0/435.3 kB ? eta -:--:--\n",
      "   -- ------------------------------------- 30.7/435.3 kB ? eta -:--:--\n",
      "   -- ------------------------------------- 30.7/435.3 kB ? eta -:--:--\n",
      "   ------- ------------------------------- 81.9/435.3 kB 657.6 kB/s eta 0:00:01\n",
      "   ------- ------------------------------- 81.9/435.3 kB 657.6 kB/s eta 0:00:01\n",
      "   --------------- ---------------------- 174.1/435.3 kB 807.1 kB/s eta 0:00:01\n",
      "   ---------------- --------------------- 194.6/435.3 kB 737.3 kB/s eta 0:00:01\n",
      "   ---------------------- --------------- 256.0/435.3 kB 874.6 kB/s eta 0:00:01\n",
      "   -------------------------- ----------- 307.2/435.3 kB 905.4 kB/s eta 0:00:01\n",
      "   ----------------------------------- ---- 389.1/435.3 kB 1.0 MB/s eta 0:00:01\n",
      "   ---------------------------------------  430.1/435.3 kB 1.0 MB/s eta 0:00:01\n",
      "   ---------------------------------------- 435.3/435.3 kB 1.0 MB/s eta 0:00:00\n",
      "Using cached python_slugify-8.0.4-py2.py3-none-any.whl (10 kB)\n",
      "Using cached text_unidecode-1.3-py2.py3-none-any.whl (78 kB)\n",
      "Using cached tqdm-4.67.1-py3-none-any.whl (78 kB)\n",
      "Installing collected packages: text-unidecode, tqdm, python-slugify, protobuf, kaggle\n",
      "Successfully installed kaggle-1.7.4.5 protobuf-6.31.1 python-slugify-8.0.4 text-unidecode-1.3 tqdm-4.67.1\n"
     ]
    },
    {
     "name": "stderr",
     "output_type": "stream",
     "text": [
      "\n",
      "[notice] A new release of pip is available: 24.0 -> 25.1.1\n",
      "[notice] To update, run: python.exe -m pip install --upgrade pip\n"
     ]
    }
   ],
   "source": [
    "!pip install kaggle"
   ]
  },
  {
   "cell_type": "code",
   "execution_count": 10,
   "id": "1eb42e9e-813e-4278-a477-f60e786370fc",
   "metadata": {},
   "outputs": [],
   "source": [
    "import  os\n",
    "os.environ['KAGGLE_USERNAME']=data['username']\n",
    "os.environ['KAGGLE_KEY']=data['key']\n"
   ]
  },
  {
   "cell_type": "code",
   "execution_count": 11,
   "id": "e0b73aaf-c2c3-41ec-840e-3c7638721824",
   "metadata": {},
   "outputs": [],
   "source": [
    "from kaggle.api.kaggle_api_extended import KaggleApi\n",
    "api=KaggleApi()\n",
    "api.authenticate()\n"
   ]
  },
  {
   "cell_type": "code",
   "execution_count": 12,
   "id": "5f73b5bf-067b-499d-b012-efbbd8c2d3b4",
   "metadata": {},
   "outputs": [
    {
     "name": "stdout",
     "output_type": "stream",
     "text": [
      "Dataset URL: https://www.kaggle.com/datasets/dineshpiyasamara/sentiment-analysis-dataset\n"
     ]
    }
   ],
   "source": [
    "api.dataset_download_files('dineshpiyasamara/sentiment-analysis-dataset', path ='../artifact')"
   ]
  },
  {
   "cell_type": "code",
   "execution_count": 22,
   "id": "fb7595c0-b5ea-4feb-a9e7-9faac855b8a0",
   "metadata": {},
   "outputs": [],
   "source": [
    "import zipfile\n",
    "with zipfile.ZipFile('../artifact/Sentiment-analysis-dataset.zip', 'r') as zip_ref:\n",
    "     zip_ref.extractall('../artifacts/')"
   ]
  },
  {
   "cell_type": "code",
   "execution_count": null,
   "id": "086bb890-ec0b-4095-8307-8ee6dee8c96b",
   "metadata": {},
   "outputs": [],
   "source": []
  }
 ],
 "metadata": {
  "kernelspec": {
   "display_name": "Python 3 (ipykernel)",
   "language": "python",
   "name": "python3"
  },
  "language_info": {
   "codemirror_mode": {
    "name": "ipython",
    "version": 3
   },
   "file_extension": ".py",
   "mimetype": "text/x-python",
   "name": "python",
   "nbconvert_exporter": "python",
   "pygments_lexer": "ipython3",
   "version": "3.12.3"
  }
 },
 "nbformat": 4,
 "nbformat_minor": 5
}
